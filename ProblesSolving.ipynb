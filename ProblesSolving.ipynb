{
  "nbformat": 4,
  "nbformat_minor": 0,
  "metadata": {
    "colab": {
      "provenance": []
    },
    "kernelspec": {
      "name": "python3",
      "display_name": "Python 3"
    },
    "language_info": {
      "name": "python"
    }
  },
  "cells": [
    {
      "cell_type": "code",
      "execution_count": null,
      "metadata": {
        "id": "lRcXJrPx9FDI"
      },
      "outputs": [],
      "source": [
        "#Problem1\n",
        "def func():\n",
        "  st = input('String: ')\n",
        "  string = st.replace(\" \",\"\")\n",
        "  vowel = [i for i in string if i in 'AEIOUaeiou']\n",
        "  consonant = [i for i in string if i not in 'AEIOUaeiou']\n",
        "  print(\"Vowels are=\",vowel)\n",
        "  print(\"Consonant are\",consonant)\n",
        "\n",
        "func()"
      ]
    },
    {
      "cell_type": "code",
      "source": [
        "#problem02\n",
        "def func():\n",
        "  print(\"Enter String:\")  \n",
        "  word = input()\n",
        "\n",
        "  uniqueChar = \"\"\n",
        "\n",
        "  for i in word:\n",
        "      if i not in uniqueChar:\n",
        "          uniqueChar += i.lower()\n",
        "\n",
        "  print(\"Unique characters is: {}\".format(uniqueChar))\n",
        "\n",
        "func()"
      ],
      "metadata": {
        "id": "kKocjJGbCQPP"
      },
      "execution_count": null,
      "outputs": []
    },
    {
      "cell_type": "code",
      "source": [
        "#problem03\n",
        "def func():\n",
        "  print(\"Enter the String with number: \")\n",
        "  text = input()\n",
        "  textLen = len(text)\n",
        "  nums = []\n",
        "  for i in range(textLen):\n",
        "    if text[i]>='0' and text[i]<='9':\n",
        "      nums.append(text[i])\n",
        "  print(\"\\nNumbers List:\")\n",
        "  print(nums)\n",
        "  res = [int(i) for i in nums]\n",
        "  sum = 0\n",
        "  for i in range(len(res)):\n",
        "      sum = sum + res[i]\n",
        "\n",
        "  print(\"Sum of all the elements in the list is:\", sum)\n",
        "\n",
        "func()"
      ],
      "metadata": {
        "id": "OwrLoW15HXAX"
      },
      "execution_count": null,
      "outputs": []
    }
  ]
}
